{
 "cells": [
  {
   "cell_type": "code",
   "execution_count": 1,
   "id": "a72b7ba9",
   "metadata": {},
   "outputs": [
    {
     "name": "stderr",
     "output_type": "stream",
     "text": [
      "/home/mm22d016/miniconda3/envs/TransPolymer/lib/python3.9/site-packages/tqdm/auto.py:21: TqdmWarning: IProgress not found. Please update jupyter and ipywidgets. See https://ipywidgets.readthedocs.io/en/stable/user_install.html\n",
      "  from .autonotebook import tqdm as notebook_tqdm\n"
     ]
    }
   ],
   "source": [
    "import sys\n",
    "sys.path.insert(0, '/home/mm22d016/Multi-Task')\n",
    "import pandas as pd\n",
    "import torch\n",
    "import numpy as np\n",
    "from sklearn.preprocessing import StandardScaler\n",
    "from sklearn.model_selection import KFold\n",
    "from sklearn.model_selection import train_test_split\n",
    "from multiTask_dataset import MultiTask_Dataset, MultiTask_DataAugmentation\n",
    "from torch.utils.data import DataLoader\n",
    "from PolymerSmilesTokenization import PolymerSmilesTokenizer\n",
    "from rdkit import Chem\n",
    "from copy import deepcopy\n",
    "import torch.nn as nn"
   ]
  },
  {
   "cell_type": "code",
   "execution_count": 2,
   "id": "71138c86",
   "metadata": {},
   "outputs": [],
   "source": [
    "data = pd.read_csv('../data/practice.csv')\n",
    "data = data.head(5)"
   ]
  },
  {
   "cell_type": "code",
   "execution_count": 3,
   "id": "e4c0ed34",
   "metadata": {},
   "outputs": [
    {
     "data": {
      "text/html": [
       "<div>\n",
       "<style scoped>\n",
       "    .dataframe tbody tr th:only-of-type {\n",
       "        vertical-align: middle;\n",
       "    }\n",
       "\n",
       "    .dataframe tbody tr th {\n",
       "        vertical-align: top;\n",
       "    }\n",
       "\n",
       "    .dataframe thead th {\n",
       "        text-align: right;\n",
       "    }\n",
       "</style>\n",
       "<table border=\"1\" class=\"dataframe\">\n",
       "  <thead>\n",
       "    <tr style=\"text-align: right;\">\n",
       "      <th></th>\n",
       "      <th>smiles</th>\n",
       "      <th>Ei</th>\n",
       "    </tr>\n",
       "  </thead>\n",
       "  <tbody>\n",
       "    <tr>\n",
       "      <th>0</th>\n",
       "      <td>*CCO*$0.3936$6.2206$5.5372</td>\n",
       "      <td>7.0344</td>\n",
       "    </tr>\n",
       "    <tr>\n",
       "      <th>1</th>\n",
       "      <td>C(CO*)*$0.3936$6.2206$5.5372</td>\n",
       "      <td>7.0344</td>\n",
       "    </tr>\n",
       "    <tr>\n",
       "      <th>2</th>\n",
       "      <td>C(O*)C*$0.3936$6.2206$5.5372</td>\n",
       "      <td>7.0344</td>\n",
       "    </tr>\n",
       "    <tr>\n",
       "      <th>3</th>\n",
       "      <td>O(*)CC*$0.3936$6.2206$5.5372</td>\n",
       "      <td>7.0344</td>\n",
       "    </tr>\n",
       "    <tr>\n",
       "      <th>4</th>\n",
       "      <td>*OCC*$0.3936$6.2206$5.5372</td>\n",
       "      <td>7.0344</td>\n",
       "    </tr>\n",
       "    <tr>\n",
       "      <th>...</th>\n",
       "      <td>...</td>\n",
       "      <td>...</td>\n",
       "    </tr>\n",
       "    <tr>\n",
       "      <th>64</th>\n",
       "      <td>*CC(*)F$0.874$8.3099$7.6225</td>\n",
       "      <td>7.6332</td>\n",
       "    </tr>\n",
       "    <tr>\n",
       "      <th>65</th>\n",
       "      <td>C(C(*)F)*$0.874$8.3099$7.6225</td>\n",
       "      <td>7.6332</td>\n",
       "    </tr>\n",
       "    <tr>\n",
       "      <th>66</th>\n",
       "      <td>C(*)(F)C*$0.874$8.3099$7.6225</td>\n",
       "      <td>7.6332</td>\n",
       "    </tr>\n",
       "    <tr>\n",
       "      <th>67</th>\n",
       "      <td>*C(F)C*$0.874$8.3099$7.6225</td>\n",
       "      <td>7.6332</td>\n",
       "    </tr>\n",
       "    <tr>\n",
       "      <th>68</th>\n",
       "      <td>FC(C*)*$0.874$8.3099$7.6225</td>\n",
       "      <td>7.6332</td>\n",
       "    </tr>\n",
       "  </tbody>\n",
       "</table>\n",
       "<p>69 rows × 2 columns</p>\n",
       "</div>"
      ],
      "text/plain": [
       "                           smiles      Ei\n",
       "0      *CCO*$0.3936$6.2206$5.5372  7.0344\n",
       "1    C(CO*)*$0.3936$6.2206$5.5372  7.0344\n",
       "2    C(O*)C*$0.3936$6.2206$5.5372  7.0344\n",
       "3    O(*)CC*$0.3936$6.2206$5.5372  7.0344\n",
       "4      *OCC*$0.3936$6.2206$5.5372  7.0344\n",
       "..                            ...     ...\n",
       "64    *CC(*)F$0.874$8.3099$7.6225  7.6332\n",
       "65  C(C(*)F)*$0.874$8.3099$7.6225  7.6332\n",
       "66  C(*)(F)C*$0.874$8.3099$7.6225  7.6332\n",
       "67    *C(F)C*$0.874$8.3099$7.6225  7.6332\n",
       "68    FC(C*)*$0.874$8.3099$7.6225  7.6332\n",
       "\n",
       "[69 rows x 2 columns]"
      ]
     },
     "execution_count": 3,
     "metadata": {},
     "output_type": "execute_result"
    }
   ],
   "source": [
    "DataAug = MultiTask_DataAugmentation(None)\n",
    "data = DataAug.smiles_augmentation(data)\n",
    "data = DataAug.combine_columns(data)\n",
    "data"
   ]
  },
  {
   "cell_type": "code",
   "execution_count": null,
   "id": "10be7f6d",
   "metadata": {},
   "outputs": [],
   "source": []
  }
 ],
 "metadata": {
  "kernelspec": {
   "display_name": "Python 3 (ipykernel)",
   "language": "python",
   "name": "python3"
  },
  "language_info": {
   "codemirror_mode": {
    "name": "ipython",
    "version": 3
   },
   "file_extension": ".py",
   "mimetype": "text/x-python",
   "name": "python",
   "nbconvert_exporter": "python",
   "pygments_lexer": "ipython3",
   "version": "3.9.16"
  }
 },
 "nbformat": 4,
 "nbformat_minor": 5
}
